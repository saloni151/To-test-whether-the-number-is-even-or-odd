{
 "cells": [
  {
   "cell_type": "markdown",
   "id": "0b4fa451-6ac2-4709-b4db-c9191f262782",
   "metadata": {},
   "source": [
    "**Write a Python Program to test whether the number is even or odd**"
   ]
  },
  {
   "cell_type": "code",
   "execution_count": 1,
   "id": "2b6b4fa6-b20c-44c2-9897-8699c257cdf4",
   "metadata": {},
   "outputs": [
    {
     "name": "stdin",
     "output_type": "stream",
     "text": [
      "Enter the number: 656\n"
     ]
    }
   ],
   "source": [
    "#Taking input form the user\n",
    "a=int(input(\"Enter the number:\"))"
   ]
  },
  {
   "cell_type": "code",
   "execution_count": 2,
   "id": "bcb9bc2d-ddaf-4f6e-9ac8-583c2878f11a",
   "metadata": {},
   "outputs": [
    {
     "name": "stdout",
     "output_type": "stream",
     "text": [
      "The number 656 is an even number.\n"
     ]
    }
   ],
   "source": [
    "#Checking to see if the given number is even or odd\n",
    "if(a%2==0):\n",
    "    print(\"The number {} is an even number.\".format(a))\n",
    "else:\n",
    "    print(\" The number {} is an odd number\".format(a))"
   ]
  },
  {
   "cell_type": "code",
   "execution_count": null,
   "id": "1f81d4f6-7bf6-4bce-9a0b-2914b3f8f42b",
   "metadata": {},
   "outputs": [],
   "source": []
  },
  {
   "cell_type": "code",
   "execution_count": null,
   "id": "3bcff41a-aa4c-4edf-b354-e5428c9f1b37",
   "metadata": {},
   "outputs": [],
   "source": []
  },
  {
   "cell_type": "code",
   "execution_count": null,
   "id": "83bf38fc-9c7e-46c7-974d-3cfe06ba424b",
   "metadata": {},
   "outputs": [],
   "source": []
  },
  {
   "cell_type": "code",
   "execution_count": null,
   "id": "e48b52db-07bd-4f18-b338-63838a51a3ce",
   "metadata": {},
   "outputs": [],
   "source": []
  },
  {
   "cell_type": "code",
   "execution_count": null,
   "id": "a85826f0-8ab0-4bb2-9ef7-931fe55b285d",
   "metadata": {},
   "outputs": [],
   "source": []
  },
  {
   "cell_type": "code",
   "execution_count": null,
   "id": "08e04982-3006-43a4-90cb-a44f51500103",
   "metadata": {},
   "outputs": [],
   "source": []
  },
  {
   "cell_type": "code",
   "execution_count": null,
   "id": "3e4a9a40-80d5-4a71-9c5a-a2364095f406",
   "metadata": {},
   "outputs": [],
   "source": []
  },
  {
   "cell_type": "code",
   "execution_count": null,
   "id": "c9565d09-1547-418c-8f52-cb0dcc940349",
   "metadata": {},
   "outputs": [],
   "source": []
  }
 ],
 "metadata": {
  "kernelspec": {
   "display_name": "Python 3 (ipykernel)",
   "language": "python",
   "name": "python3"
  },
  "language_info": {
   "codemirror_mode": {
    "name": "ipython",
    "version": 3
   },
   "file_extension": ".py",
   "mimetype": "text/x-python",
   "name": "python",
   "nbconvert_exporter": "python",
   "pygments_lexer": "ipython3",
   "version": "3.12.7"
  }
 },
 "nbformat": 4,
 "nbformat_minor": 5
}
